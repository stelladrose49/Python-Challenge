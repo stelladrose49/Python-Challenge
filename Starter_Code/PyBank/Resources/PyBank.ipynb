{
 "cells": [
  {
   "cell_type": "code",
   "execution_count": 1,
   "metadata": {},
   "outputs": [],
   "source": [
    "# Import Modules\n",
    "import os\n",
    "import csv"
   ]
  },
  {
   "cell_type": "code",
   "execution_count": 2,
   "metadata": {},
   "outputs": [],
   "source": [
    "# Set resource path \n",
    "file = \"Resources/budget_data.csv\""
   ]
  },
  {
   "cell_type": "code",
   "execution_count": 3,
   "metadata": {},
   "outputs": [],
   "source": [
    "# Create object from the csv file\n",
    "budget_data = os.path.join(\"Resources\", \"budget_data.csv\")\n",
    "\n",
    "total_months = 0\n",
    "total_ProfLoss = 0\n",
    "value = 0\n",
    "change = 0\n",
    "dates = []\n",
    "profits = []\n"
   ]
  },
  {
   "cell_type": "code",
   "execution_count": 4,
   "metadata": {},
   "outputs": [
    {
     "name": "stdout",
     "output_type": "stream",
     "text": [
      "Financial Analysis\n",
      "---------------------\n",
      "Total Months: 86\n",
      "Total: $22564198\n",
      "Average Change: $-8311.11\n",
      "Greatest Increase in Profits: Aug-16 ($1862002)\n",
      "Greatest Decrease in Profits: Feb-14 ($-1825558)\n"
     ]
    },
    {
     "data": {
      "text/plain": [
       "200"
      ]
     },
     "execution_count": 4,
     "metadata": {},
     "output_type": "execute_result"
    }
   ],
   "source": [
    "#Open and read the CSV\n",
    "with open(file) as bank_file:\n",
    "    csvreader = csv.reader(bank_file, delimiter=',')\n",
    "   \n",
    "# Read the header   \n",
    "    csv_header = next(csvreader)\n",
    "\n",
    "#Reading the first row\n",
    "    first_row = next(csvreader)\n",
    "    total_months += 1\n",
    "    total_ProfLoss += int(first_row[1])\n",
    "    value = int(first_row[1])\n",
    "\n",
    "# Looping through each row of data AFTER header and first row\n",
    "    for row in csvreader:\n",
    "        dates.append(row[0])\n",
    "        # Calculate the change and add it to list of changes\n",
    "        change = int(row[1])-value\n",
    "        profits.append(change)\n",
    "        value = int(row[1])\n",
    "\n",
    "        # Total number of months included in the dataset\n",
    "        total_months += 1\n",
    "\n",
    "        # Net total amount of \"Profits/Losses\" over the entire period\n",
    "        total_ProfLoss = total_ProfLoss + int(row[1])\n",
    "\n",
    "        # Average change in \"Profits/Losses\" over entire period\n",
    "        avg_change = sum(profits)/len(profits)\n",
    "\n",
    "        # Greatest increase in profits (date and amount) over the entire period\n",
    "        greatest_increase = max(profits)\n",
    "        greatest_idx = profits.index(greatest_increase)\n",
    "        greatest_date = dates[greatest_idx]\n",
    "\n",
    "        # Greatest decrease in profits (date and amount) over the entire period\n",
    "        greatest_decrease = min(profits)\n",
    "        least_idx = profits.index(greatest_decrease)\n",
    "        least_date = dates[least_idx]\n",
    "\n",
    "# Show all the information in an Analysis\n",
    "print(\"Financial Analysis\")\n",
    "print(\"---------------------\")\n",
    "print(f\"Total Months: {str(total_months)}\")\n",
    "print(f\"Total: ${str(total_ProfLoss)}\")\n",
    "print(f\"Average Change: ${str(round(avg_change,2))}\")\n",
    "print(f\"Greatest Increase in Profits: {greatest_date} (${str(greatest_increase)})\")\n",
    "print(f\"Greatest Decrease in Profits: {least_date} (${str(greatest_decrease)})\")\n",
    "\n",
    "# Export to .txt file\n",
    "output = open(\"output.txt\", \"w\")\n",
    "\n",
    "line1 = \"Financial Analysis\"\n",
    "line2 = \"---------------------\"\n",
    "line3 = str(f\"Total Months: {str(total_months)}\")\n",
    "line4 = str(f\"Total: ${str(total_ProfLoss)}\")\n",
    "line5 = str(f\"Average Change: ${str(round(avg_change,2))}\")\n",
    "line6 = str(f\"Greatest Increase in Profits:  {greatest_date} (${str(greatest_increase)})\")\n",
    "line7 = str(f\"Greatest Decrease in Profits:  {least_date} (${str(greatest_decrease)})\")\n",
    "output.write('{}\\n{}\\n{}\\n{}\\n{}\\n{}\\n{}\\n'.format(line1,line2,line3,line4,line5,line6,line7))\n",
    "\n"
   ]
  }
 ],
 "metadata": {
  "kernelspec": {
   "display_name": "base",
   "language": "python",
   "name": "python3"
  },
  "language_info": {
   "codemirror_mode": {
    "name": "ipython",
    "version": 3
   },
   "file_extension": ".py",
   "mimetype": "text/x-python",
   "name": "python",
   "nbconvert_exporter": "python",
   "pygments_lexer": "ipython3",
   "version": "3.11.5"
  }
 },
 "nbformat": 4,
 "nbformat_minor": 2
}
