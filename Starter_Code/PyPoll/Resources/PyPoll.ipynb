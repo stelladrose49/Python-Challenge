{
 "cells": [
  {
   "cell_type": "code",
   "execution_count": 3,
   "metadata": {},
   "outputs": [],
   "source": [
    "# Import Modules \n",
    "import os\n",
    "import csv"
   ]
  },
  {
   "cell_type": "code",
   "execution_count": 4,
   "metadata": {},
   "outputs": [],
   "source": [
    "# Create object from the csv file\n",
    "election_data = os.path.join(\"election_data.csv\")"
   ]
  },
  {
   "cell_type": "code",
   "execution_count": 36,
   "metadata": {},
   "outputs": [
    {
     "name": "stdout",
     "output_type": "stream",
     "text": [
      "Election Results\n",
      "-----------------------\n",
      "Total Votes: 369711\n",
      "-----------------------\n",
      "Charles Casper Stockham: 23.049%   (85213)\n",
      "\n",
      "Diana DeGette: 73.812%   (272892)\n",
      "\n",
      "Raymon Anthony Doane: 3.139%   (11606)\n",
      "\n",
      "-----------------------\n",
      "Winner: ['Diana DeGette']\n",
      "-----------------------\n"
     ]
    }
   ],
   "source": [
    "# Open and read the CSV\n",
    "with open(election_data, newline= \"\") as election_csv:\n",
    "    csvreader = csv.reader(election_csv, delimiter=',')\n",
    "\n",
    "    # Read the header\n",
    "    csv_header = next(csvreader)\n",
    "\n",
    "    total_votes = 0\n",
    "    winner_count = 0\n",
    "    candidate_votes = {}\n",
    "    percent_candidate_votes = {}\n",
    "\n",
    "# Loop through candidates\n",
    "    for row in csvreader:\n",
    "    # Add to counting votes\n",
    "        total_votes = total_votes + 1\n",
    "    # List of candidates who received votes and total number of votes each candidate received\n",
    "        if row[2] in candidate_votes:\n",
    "            candidate_votes[row[2]] += 1\n",
    "        else:\n",
    "            candidate_votes[row[2]] = 1\n",
    "\n",
    "#  Loop through candidate_votes to find percentage and winner\n",
    "for candidate in candidate_votes:\n",
    "    percent_candidate_votes[candidate] = (candidate_votes[candidate] / total_votes) * 100\n",
    "    if candidate_votes[candidate] > winner_count:\n",
    "        winner_count = candidate_votes[candidate]\n",
    "        winner = [candidate]\n",
    "# Print results\n",
    "print(f\"Election Results\")\n",
    "print(f\"-----------------------\")\n",
    "print(f\"Total Votes: {total_votes}\")\n",
    "print(f\"-----------------------\")\n",
    "for key, velue in candidate_votes.items():\n",
    "        print(f\"{key}: {round(percent_candidate_votes[key], 3)}%   ({candidate_votes[key]})\\n\")\n",
    "print(f\"-----------------------\")\n",
    "print(f\"Winner: {winner}\")\n",
    "print(f\"-----------------------\")\n",
    "\n",
    "# Export to .txt file\n",
    "output = open(\"election_results.txt\", \"w\")\n",
    "\n",
    "line1 = \"Election Results\"\n",
    "line2 = \"-----------------------\"\n",
    "line3 = f\"Total Votes: {total_votes}\"\n",
    "line4 = \"-----------------------\"\n",
    "candidate_lines = [f\"{key}: {round(percent_candidate_votes[key], 3)}%   ({candidate_votes[key]})\\n\" for key in candidate_votes]\n",
    "line5 = \"\\n\".join(candidate_lines)\n",
    "line6 = \"-----------------------\"\n",
    "line7 = f\"Winner: {winner}\"\n",
    "line8 = \"-----------------------\"\n",
    "\n",
    "with open(\"election_results.txt\", \"w\") as file:\n",
    "     file.write(\"\\n\".join([line1, line2, line3, line4, line5, line6, line7, line8]))\n"
   ]
  }
 ],
 "metadata": {
  "kernelspec": {
   "display_name": "base",
   "language": "python",
   "name": "python3"
  },
  "language_info": {
   "codemirror_mode": {
    "name": "ipython",
    "version": 3
   },
   "file_extension": ".py",
   "mimetype": "text/x-python",
   "name": "python",
   "nbconvert_exporter": "python",
   "pygments_lexer": "ipython3",
   "version": "3.11.5"
  }
 },
 "nbformat": 4,
 "nbformat_minor": 2
}
